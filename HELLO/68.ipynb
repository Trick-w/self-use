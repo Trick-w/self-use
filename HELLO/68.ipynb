{
 "cells": [
  {
   "cell_type": "code",
   "execution_count": null,
   "metadata": {},
   "outputs": [],
   "source": [
    "xinxi_1 = {\n",
    "    'mingzi':'fangyuan',\n",
    "    'shenfen':'大梦仙尊',\n",
    "    'age':18,\n",
    "    }\n",
    "xinxi_2 = {\n",
    "    'mingzi':'momnkey',\n",
    "    'shenfen':'qitaindasheng',\n",
    "    'age':500,\n",
    "    }\n",
    "xinxi_3 = {\n",
    "    'mingzi':'yangjian',\n",
    "    'shenfen':'erlangshen',\n",
    "    'age':12800\n",
    "    }\n",
    "peoples = [xinxi_1,xinxi_2,xinxi_3]\n",
    "for people in peoples:\n",
    "    print(people)"
   ]
  },
  {
   "cell_type": "code",
   "execution_count": null,
   "metadata": {},
   "outputs": [],
   "source": [
    "xiaobao = {\n",
    "    'lei':'dog',\n",
    "    'master':'jobo',\n",
    "}\n",
    "xiaohei = {\n",
    "    'lei':'cat',\n",
    "    'master':'wang',\n",
    "}\n",
    "pets = [xiaobao,xiaohei]\n",
    "for pet in pets:\n",
    "    print(pet)"
   ]
  },
  {
   "cell_type": "code",
   "execution_count": null,
   "metadata": {},
   "outputs": [],
   "source": [
    "favrite_places = {\n",
    "    'jobo':['shanghai','wudu','liniaj'],\n",
    "    'haier':['beijing','gongjing'],\n",
    "    'yuhj':'shanghai'\n",
    "}\n",
    "for a,v in favrite_places.items():\n",
    "    print('\\n'+a+'.')\n",
    "    print(v)"
   ]
  },
  {
   "cell_type": "code",
   "execution_count": 10,
   "metadata": {},
   "outputs": [
    {
     "name": "stdout",
     "output_type": "stream",
     "text": [
      "城市: shanghai\n",
      "国家: china\n",
      "人口: 3000w\n",
      "有趣的事实: modu\n",
      "\n",
      "城市: dongjing\n",
      "国家: japhan\n",
      "人口: 1500w\n",
      "有趣的事实: seyu\n",
      "\n",
      "城市: huashengdun\n",
      "国家: USA\n",
      "人口: 3000w\n",
      "有趣的事实: baigong\n",
      "\n"
     ]
    }
   ],
   "source": [
    "cities ={\n",
    "    'shanghai':{\n",
    "        'country':'china',\n",
    "        'population':'3000w',\n",
    "        'fact':'modu',\n",
    "        } ,\n",
    "        'dongjing':{ \n",
    "        'country':'japhan',\n",
    "        'population':'1500w',\n",
    "        'fact':'seyu',\n",
    "        },\n",
    "    'huashengdun':{\n",
    "        'country':'USA',\n",
    "        'population':'3000w',\n",
    "        'fact':'baigong',\n",
    "    },\n",
    "}\n",
    "for city, info in cities.items():  \n",
    "    print(f\"城市: {city}\")  \n",
    "    print(f\"国家: {info['country']}\")  \n",
    "    print(f\"人口: {info['population']}\")  \n",
    "    print(f\"有趣的事实: {info['fact']}\")  \n",
    "    print()"
   ]
  }
 ],
 "metadata": {
  "kernelspec": {
   "display_name": ".venv",
   "language": "python",
   "name": "python3"
  },
  "language_info": {
   "codemirror_mode": {
    "name": "ipython",
    "version": 3
   },
   "file_extension": ".py",
   "mimetype": "text/x-python",
   "name": "python",
   "nbconvert_exporter": "python",
   "pygments_lexer": "ipython3",
   "version": "3.13.0"
  }
 },
 "nbformat": 4,
 "nbformat_minor": 2
}
