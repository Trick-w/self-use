{
 "cells": [
  {
   "cell_type": "code",
   "execution_count": null,
   "metadata": {},
   "outputs": [],
   "source": [
    "xinxi_1 = {\n",
    "    'mingzi':'fangyuan',\n",
    "    'shenfen':'大梦仙尊',\n",
    "    'age':18,\n",
    "    }\n",
    "xinxi_2 = {\n",
    "    'mingzi':'momnkey',\n",
    "    'shenfen':'qitaindasheng',\n",
    "    'age':500,\n",
    "    }\n",
    "xinxi_3 = {\n",
    "    'mingzi':'yangjian',\n",
    "    'shenfen':'erlangshen',\n",
    "    'age':12800\n",
    "    }\n",
    "peoples = [xinxi_1,xinxi_2,xinxi_3]\n",
    "for people in peoples:\n",
    "    print(people)"
   ]
  },
  {
   "cell_type": "code",
   "execution_count": null,
   "metadata": {},
   "outputs": [],
   "source": []
  },
  {
   "cell_type": "code",
   "execution_count": null,
   "metadata": {},
   "outputs": [],
   "source": [
    "xiaobao = {\n",
    "    'lei':'dog',\n",
    "    'master':'jobo',\n",
    "    }\n",
    "xiaohei = {\n",
    "    'lei':'cat',\n",
    "    'master':'wang',\n",
    "    }\n",
    "pets = [xiaobao,xiaohei]\n",
    "for pet in pets:\n",
    "    print(pet)"
   ]
  },
  {
   "cell_type": "code",
   "execution_count": null,
   "metadata": {},
   "outputs": [],
   "source": [
    "favrite_places = {\n",
    "    'jobo':['shanghai','wudu','liniaj'],\n",
    "    'haier':['beijing','gongjing'],\n",
    "    'yuhj':'shanghai'\n",
    "    }\n",
    "for a,v in favrite_places.items():\n",
    "    print('\\n'+a+'.')\n",
    "    print(v)"
   ]
  },
  {
   "cell_type": "code",
   "execution_count": null,
   "metadata": {},
   "outputs": [],
   "source": [
    "cities ={\n",
    "    'shanghai':{\n",
    "        'country':'china',\n",
    "        'population':'3000w',\n",
    "        'fact':'modu',\n",
    "        } ,\n",
    "        'dongjing':{ \n",
    "        'country':'japhan',\n",
    "        'population':'1500w',\n",
    "        'fact':'seyu',\n",
    "        },\n",
    "    'huashengdun':{\n",
    "        'country':'USA',\n",
    "        'population':'3000w',\n",
    "        'fact':'baigong',\n",
    "        },\n",
    "    }\n",
    "for city, info in cities.items():  \n",
    "    print(f\"城市: {city}\")  \n",
    "    print(f\"国家: {info['country']}\")  \n",
    "    print(f\"人口: {info['population']}\")  \n",
    "    print(f\"有趣的事实: {info['fact']}\")  \n",
    "    print()"
   ]
  },
  {
   "cell_type": "code",
   "execution_count": null,
   "metadata": {},
   "outputs": [],
   "source": [
    "# 7-4 比萨配料  \n",
    "while True:  \n",
    "    topping = input(\"请输入您想要的比萨配料（输入 'quit' 结束）：\")  \n",
    "    if topping.lower() == 'quit':  \n",
    "        break  \n",
    "    print(f\"我们会在比萨中添加 {topping}。\")  "
   ]
  },
  {
   "cell_type": "code",
   "execution_count": null,
   "metadata": {},
   "outputs": [],
   "source": [
    "# 7-5 电影票  \n",
    "while True:  \n",
    "    age = input(\"请输入观众的年龄（输入 'quit' 结束）：\")  \n",
    "    if age.lower() == 'quit':  \n",
    "        break  \n",
    "    try:  \n",
    "        age = int(age)  \n",
    "        if age < 3:  \n",
    "            price = 0  \n",
    "        elif 3 <= age <= 12:  \n",
    "            price = 10  \n",
    "        else:  \n",
    "            price = 15  \n",
    "        print(f\"您的票价是：${price}\")  \n",
    "    except ValueError:  \n",
    "        print(\"请输入一个有效的年龄。\")  "
   ]
  },
  {
   "cell_type": "code",
   "execution_count": null,
   "metadata": {},
   "outputs": [],
   "source": [
    "\n",
    "while True:  \n",
    "    yers = input(\"请输入您的年龄（输入 'quit' 结束）：\")  \n",
    "    if yers.lower() == 'quit':  \n",
    "        break\n",
    "    try:\n",
    "        yers = int(yers)\n",
    "        if yers < 3:\n",
    "            money = 0\n",
    "        elif 3 <= yers <=12:\n",
    "            money = 5\n",
    "        else:\n",
    "            money = 10\n",
    "        print(f\"你的票价是${money}.\")\n",
    "    except ValueError:\n",
    "        print('错误年龄')"
   ]
  },
  {
   "cell_type": "code",
   "execution_count": null,
   "metadata": {},
   "outputs": [],
   "source": [
    "# 7-7 无限循环  \n",
    "while True:  \n",
    "    print(\"这是一个无限循环。\") "
   ]
  },
  {
   "cell_type": "code",
   "execution_count": null,
   "metadata": {},
   "outputs": [],
   "source": [
    "current_number = 0 \n",
    "while current_number < 10: \n",
    "    current_number += 1 \n",
    "    if current_number % 2 == 0: \n",
    "        continue\n",
    "    print(current_number)"
   ]
  },
  {
   "cell_type": "code",
   "execution_count": 12,
   "metadata": {},
   "outputs": [
    {
     "name": "stdout",
     "output_type": "stream",
     "text": [
      "One of my favorite books is Sa in Wonderland\n"
     ]
    }
   ],
   "source": [
    "def display_message(book):\n",
    "    print(f'One of my favorite books is {book.title()} in Wonderland')\n",
    "\n",
    "display_message('sa')"
   ]
  }
 ],
 "metadata": {
  "kernelspec": {
   "display_name": ".venv",
   "language": "python",
   "name": "python3"
  },
  "language_info": {
   "codemirror_mode": {
    "name": "ipython",
    "version": 3
   },
   "file_extension": ".py",
   "mimetype": "text/x-python",
   "name": "python",
   "nbconvert_exporter": "python",
   "pygments_lexer": "ipython3",
   "version": "3.13.0"
  }
 },
 "nbformat": 4,
 "nbformat_minor": 2
}
