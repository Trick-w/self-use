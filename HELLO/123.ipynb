{
 "cells": [
  {
   "cell_type": "markdown",
   "metadata": {},
   "source": [
    "# 标题语法"
   ]
  },
  {
   "cell_type": "markdown",
   "metadata": {},
   "source": [
    "# Heading level 1\n",
    "## Heading level 2\n",
    "### Heading level 3\n",
    "#### Heading level 4\n",
    "##### Heading level 5\n",
    "###### Heading level 6"
   ]
  },
  {
   "cell_type": "markdown",
   "metadata": {},
   "source": [
    "# 段落语法\n",
    "\n",
    "I love you,are you?\n",
    "\n",
    "vuhiasbka.\n",
    "\n",
    "acbajscjl."
   ]
  },
  {
   "cell_type": "markdown",
   "metadata": {},
   "source": [
    "# 换行语法\n",
    "zz<br>zz<br>zz123  "
   ]
  },
  {
   "cell_type": "markdown",
   "metadata": {},
   "source": [
    "*xieti*\n",
    "\n",
    "_斜体_"
   ]
  },
  {
   "cell_type": "markdown",
   "metadata": {},
   "source": [
    "**blod**<br>__加粗__"
   ]
  },
  {
   "cell_type": "markdown",
   "metadata": {},
   "source": [
    " * KHxjx  \n",
    " * X,c<JBc,zmcb>  \n",
    " * zmzmcxz  \n",
    " "
   ]
  }
 ],
 "metadata": {
  "kernelspec": {
   "display_name": ".venv",
   "language": "python",
   "name": "python3"
  },
  "language_info": {
   "codemirror_mode": {
    "name": "ipython",
    "version": 3
   },
   "file_extension": ".py",
   "mimetype": "text/x-python",
   "name": "python",
   "nbconvert_exporter": "python",
   "pygments_lexer": "ipython3",
   "version": "3.13.0"
  }
 },
 "nbformat": 4,
 "nbformat_minor": 2
}
