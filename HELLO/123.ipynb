{
 "cells": [
  {
   "cell_type": "code",
   "execution_count": 3,
   "metadata": {},
   "outputs": [
    {
     "name": "stdout",
     "output_type": "stream",
     "text": [
      "['honda', 'yamaha', 'suzuki']\n",
      "['ducati', 'yamaha', 'suzuki']\n",
      "['ducati', 'yamaha', 'suzuki', 'honda']\n",
      "['ducati', 'bentian', 'yamaha', 'suzuki', 'honda']\n",
      "['bentian', 'yamaha', 'suzuki', 'honda']\n",
      "['bentian', 'yamaha', 'suzuki']\n",
      "['bentian', 'yamaha']\n",
      "suzuki\n",
      "['bentian', 'www', 'yamaha']\n",
      "The  WWW.\n",
      "['yamaha']\n"
     ]
    }
   ],
   "source": [
    "motorcycles = ['honda','yamaha','suzuki']\n",
    "print(motorcycles)\n",
    "motorcycles[0]='ducati'\n",
    "print(motorcycles)\n",
    "#列表末尾添加append\n",
    "motorcycles.append('honda')\n",
    "print(motorcycles)\n",
    "#列表插入insert\n",
    "motorcycles.insert(1,'bentian')\n",
    "print(motorcycles)\n",
    "#删除del\n",
    "del motorcycles[0]\n",
    "print(motorcycles)\n",
    "del motorcycles[-1]\n",
    "print(motorcycles)\n",
    "#调用删除pop\n",
    "popped_motorcyles = motorcycles.pop()\n",
    "print(motorcycles)\n",
    "print(popped_motorcyles)\n",
    "motorcycles.insert(1,'www')\n",
    "print(motorcycles)\n",
    "fist_owend = motorcycles.pop(1)\n",
    "print('The  '+fist_owend.upper()+'.')\n",
    "#删除具体值\n",
    "too_motorcycles = 'bentian'\n",
    "motorcycles.remove(too_motorcycles)\n",
    "print(motorcycles)\n"
   ]
  }
 ],
 "metadata": {
  "kernelspec": {
   "display_name": ".venv",
   "language": "python",
   "name": "python3"
  },
  "language_info": {
   "codemirror_mode": {
    "name": "ipython",
    "version": 3
   },
   "file_extension": ".py",
   "mimetype": "text/x-python",
   "name": "python",
   "nbconvert_exporter": "python",
   "pygments_lexer": "ipython3",
   "version": "3.13.0"
  }
 },
 "nbformat": 4,
 "nbformat_minor": 2
}
