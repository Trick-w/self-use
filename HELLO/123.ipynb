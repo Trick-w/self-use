{
 "cells": [
  {
   "cell_type": "markdown",
   "metadata": {},
   "source": [
    "# 标题语法\n"
   ]
  },
  {
   "cell_type": "markdown",
   "metadata": {},
   "source": [
    "# Heading level 1\n",
    "\n",
    "## Heading level 2\n",
    "\n",
    "### Heading level 3\n",
    "\n",
    "#### Heading level 4\n",
    "\n",
    "##### Heading level 5\n",
    "\n",
    "###### Heading level 6\n"
   ]
  },
  {
   "cell_type": "markdown",
   "metadata": {},
   "source": [
    "# 段落语法\n",
    "\n",
    "I love you,are you?\n",
    "\n",
    "vuhiasbka.\n",
    "\n",
    "acbajscjl."
   ]
  },
  {
   "cell_type": "markdown",
   "metadata": {},
   "source": [
    "# 换行语法\n",
    "\n",
    "zz<br>zz<br>zz123\n"
   ]
  },
  {
   "cell_type": "markdown",
   "metadata": {},
   "source": [
    "_xieti_\n",
    "\n",
    "_斜体_\n"
   ]
  },
  {
   "cell_type": "markdown",
   "metadata": {},
   "source": [
    "**blod**<br>**加粗**\n"
   ]
  },
  {
   "cell_type": "markdown",
   "metadata": {},
   "source": [
    "- KHxjx\n",
    "- X,c<JBc,zmcb>\n",
    "- zmzmcxz\n"
   ]
  },
  {
   "cell_type": "markdown",
   "metadata": {},
   "source": [
    "- **48\\*50 144**\n",
    "- **34\\*50 241**\n",
    "- **89\\*60 29**\n",
    "- **76\\*50 21**\n",
    "- **139\\*60 24**\n",
    "- **114\\*40 50**\n",
    "- **60\\*50 20**\n",
    "- **60\\*70 30**  \n",
    "  **10.17 方**\n",
    "- **橡塑棉 24 方**\n"
   ]
  }
 ],
 "metadata": {
  "kernelspec": {
   "display_name": ".venv",
   "language": "python",
   "name": "python3"
  },
  "language_info": {
   "codemirror_mode": {
    "name": "ipython",
    "version": 3
   },
   "file_extension": ".py",
   "mimetype": "text/x-python",
   "name": "python",
   "nbconvert_exporter": "python",
   "pygments_lexer": "ipython3",
   "version": "3.13.0"
  }
 },
 "nbformat": 4,
 "nbformat_minor": 2
}
